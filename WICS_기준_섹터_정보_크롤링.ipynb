{
 "cells": [
  {
   "cell_type": "markdown",
   "id": "4cc6c9ba-2e86-4701-bd1c-aa99f0544fb3",
   "metadata": {},
   "source": [
    "## WICS 기준 섹터 정보 크롤링\n",
    "\n",
    "지수 제공업체인 FnGuide Index에서는 GICS와 비슷한 WICS 산업분류를 발표하고 있다.  \n",
    "WICS를 크롤링하여 필요한 정보를 수집한다."
   ]
  },
  {
   "cell_type": "code",
   "execution_count": 3,
   "id": "4ac1b618-5b99-4cee-9343-ec24dd926af1",
   "metadata": {},
   "outputs": [
    {
     "data": {
      "text/plain": [
       "dict"
      ]
     },
     "execution_count": 3,
     "metadata": {},
     "output_type": "execute_result"
    }
   ],
   "source": [
    "import json\n",
    "import requests as rq\n",
    "import pandas as pd\n",
    "\n",
    "url = f'''https://www.wiseindex.com/Index/GetIndexComponets?ceil_yn=0&dt=20250314&sec_cd=G10'''   \n",
    "data = rq.get(url).json()   \n",
    "\n",
    "type(data)"
   ]
  },
  {
   "cell_type": "markdown",
   "id": "b87c4cac-aeab-4043-845c-ed739af16f41",
   "metadata": {},
   "source": [
    "- JSON 데이터에 어떠한 키가 있는지 확인한다."
   ]
  },
  {
   "cell_type": "code",
   "execution_count": 4,
   "id": "60e7944b-0a90-41f5-8326-8dbd0aea2395",
   "metadata": {},
   "outputs": [
    {
     "name": "stdout",
     "output_type": "stream",
     "text": [
      "dict_keys(['info', 'list', 'sector', 'size'])\n"
     ]
    }
   ],
   "source": [
    "print(data.keys())"
   ]
  },
  {
   "cell_type": "markdown",
   "id": "3f3c4345-565d-4127-8436-61567751fd5e",
   "metadata": {},
   "source": [
    "- 'info', 'list', 'sector', 'size' 중 list에는 해당 섹터의 구성종목 정보가 포함되어 있고, sector에는 각종 섹터의 코드 정보가 포함되어 있다."
   ]
  },
  {
   "cell_type": "code",
   "execution_count": 5,
   "id": "f11e50ce-5284-4e76-b372-f5b979c346eb",
   "metadata": {},
   "outputs": [
    {
     "data": {
      "text/plain": [
       "{'IDX_CD': 'G10',\n",
       " 'IDX_NM_KOR': 'WICS 에너지',\n",
       " 'ALL_MKT_VAL': 30505197,\n",
       " 'CMP_CD': '096770',\n",
       " 'CMP_KOR': 'SK이노베이션',\n",
       " 'MKT_VAL': 11164491,\n",
       " 'WGT': 36.6,\n",
       " 'S_WGT': 36.6,\n",
       " 'CAL_WGT': 1.0,\n",
       " 'SEC_CD': 'G10',\n",
       " 'SEC_NM_KOR': '에너지',\n",
       " 'SEQ': 1,\n",
       " 'TOP60': 3,\n",
       " 'APT_SHR_CNT': 84579475}"
      ]
     },
     "execution_count": 5,
     "metadata": {},
     "output_type": "execute_result"
    }
   ],
   "source": [
    "data['list'][0]"
   ]
  },
  {
   "cell_type": "code",
   "execution_count": 6,
   "id": "22f8a05b-7907-46ea-bf6a-e0d2c52f9141",
   "metadata": {},
   "outputs": [
    {
     "data": {
      "text/plain": [
       "[{'SEC_CD': 'G25', 'SEC_NM_KOR': '경기관련소비재', 'SEC_RATE': 9.56, 'IDX_RATE': 0},\n",
       " {'SEC_CD': 'G35', 'SEC_NM_KOR': '건강관리', 'SEC_RATE': 11.49, 'IDX_RATE': 0},\n",
       " {'SEC_CD': 'G50', 'SEC_NM_KOR': '커뮤니케이션서비스', 'SEC_RATE': 6.28, 'IDX_RATE': 0},\n",
       " {'SEC_CD': 'G40', 'SEC_NM_KOR': '금융', 'SEC_RATE': 9.79, 'IDX_RATE': 0},\n",
       " {'SEC_CD': 'G10', 'SEC_NM_KOR': '에너지', 'SEC_RATE': 2.36, 'IDX_RATE': 100.0},\n",
       " {'SEC_CD': 'G20', 'SEC_NM_KOR': '산업재', 'SEC_RATE': 18.1, 'IDX_RATE': 0},\n",
       " {'SEC_CD': 'G55', 'SEC_NM_KOR': '유틸리티', 'SEC_RATE': 1.15, 'IDX_RATE': 0},\n",
       " {'SEC_CD': 'G30', 'SEC_NM_KOR': '필수소비재', 'SEC_RATE': 2.24, 'IDX_RATE': 0},\n",
       " {'SEC_CD': 'G15', 'SEC_NM_KOR': '소재', 'SEC_RATE': 6.25, 'IDX_RATE': 0},\n",
       " {'SEC_CD': 'G45', 'SEC_NM_KOR': 'IT', 'SEC_RATE': 32.78, 'IDX_RATE': 0}]"
      ]
     },
     "execution_count": 6,
     "metadata": {},
     "output_type": "execute_result"
    }
   ],
   "source": [
    "data['sector']"
   ]
  },
  {
   "cell_type": "markdown",
   "id": "6d4c4e89-ccc8-4144-ba8b-4b86a6113be5",
   "metadata": {},
   "source": [
    "- list 부분의 데이터를 데이터프레임 형태로 변경한다."
   ]
  },
  {
   "cell_type": "code",
   "execution_count": 7,
   "id": "2af62993-2f2e-4725-83f4-251e80b9e58c",
   "metadata": {},
   "outputs": [
    {
     "data": {
      "text/html": [
       "<div>\n",
       "<style scoped>\n",
       "    .dataframe tbody tr th:only-of-type {\n",
       "        vertical-align: middle;\n",
       "    }\n",
       "\n",
       "    .dataframe tbody tr th {\n",
       "        vertical-align: top;\n",
       "    }\n",
       "\n",
       "    .dataframe thead th {\n",
       "        text-align: right;\n",
       "    }\n",
       "</style>\n",
       "<table border=\"1\" class=\"dataframe\">\n",
       "  <thead>\n",
       "    <tr style=\"text-align: right;\">\n",
       "      <th></th>\n",
       "      <th>IDX_CD</th>\n",
       "      <th>IDX_NM_KOR</th>\n",
       "      <th>ALL_MKT_VAL</th>\n",
       "      <th>CMP_CD</th>\n",
       "      <th>CMP_KOR</th>\n",
       "      <th>MKT_VAL</th>\n",
       "      <th>WGT</th>\n",
       "      <th>S_WGT</th>\n",
       "      <th>CAL_WGT</th>\n",
       "      <th>SEC_CD</th>\n",
       "      <th>SEC_NM_KOR</th>\n",
       "      <th>SEQ</th>\n",
       "      <th>TOP60</th>\n",
       "      <th>APT_SHR_CNT</th>\n",
       "    </tr>\n",
       "  </thead>\n",
       "  <tbody>\n",
       "    <tr>\n",
       "      <th>0</th>\n",
       "      <td>G10</td>\n",
       "      <td>WICS 에너지</td>\n",
       "      <td>30505197</td>\n",
       "      <td>096770</td>\n",
       "      <td>SK이노베이션</td>\n",
       "      <td>11164491</td>\n",
       "      <td>36.60</td>\n",
       "      <td>36.60</td>\n",
       "      <td>1.0</td>\n",
       "      <td>G10</td>\n",
       "      <td>에너지</td>\n",
       "      <td>1</td>\n",
       "      <td>3</td>\n",
       "      <td>84579475</td>\n",
       "    </tr>\n",
       "    <tr>\n",
       "      <th>1</th>\n",
       "      <td>G10</td>\n",
       "      <td>WICS 에너지</td>\n",
       "      <td>30505197</td>\n",
       "      <td>034730</td>\n",
       "      <td>SK</td>\n",
       "      <td>4572455</td>\n",
       "      <td>14.99</td>\n",
       "      <td>51.59</td>\n",
       "      <td>1.0</td>\n",
       "      <td>G10</td>\n",
       "      <td>에너지</td>\n",
       "      <td>2</td>\n",
       "      <td>3</td>\n",
       "      <td>33351243</td>\n",
       "    </tr>\n",
       "    <tr>\n",
       "      <th>2</th>\n",
       "      <td>G10</td>\n",
       "      <td>WICS 에너지</td>\n",
       "      <td>30505197</td>\n",
       "      <td>267250</td>\n",
       "      <td>HD현대</td>\n",
       "      <td>3304439</td>\n",
       "      <td>10.83</td>\n",
       "      <td>62.42</td>\n",
       "      <td>1.0</td>\n",
       "      <td>G10</td>\n",
       "      <td>에너지</td>\n",
       "      <td>3</td>\n",
       "      <td>3</td>\n",
       "      <td>44236128</td>\n",
       "    </tr>\n",
       "    <tr>\n",
       "      <th>3</th>\n",
       "      <td>G10</td>\n",
       "      <td>WICS 에너지</td>\n",
       "      <td>30505197</td>\n",
       "      <td>010950</td>\n",
       "      <td>S-Oil</td>\n",
       "      <td>2457682</td>\n",
       "      <td>8.06</td>\n",
       "      <td>70.48</td>\n",
       "      <td>1.0</td>\n",
       "      <td>G10</td>\n",
       "      <td>에너지</td>\n",
       "      <td>4</td>\n",
       "      <td>3</td>\n",
       "      <td>41655633</td>\n",
       "    </tr>\n",
       "    <tr>\n",
       "      <th>4</th>\n",
       "      <td>G10</td>\n",
       "      <td>WICS 에너지</td>\n",
       "      <td>30505197</td>\n",
       "      <td>009830</td>\n",
       "      <td>한화솔루션</td>\n",
       "      <td>2182090</td>\n",
       "      <td>7.15</td>\n",
       "      <td>77.63</td>\n",
       "      <td>1.0</td>\n",
       "      <td>G10</td>\n",
       "      <td>에너지</td>\n",
       "      <td>5</td>\n",
       "      <td>3</td>\n",
       "      <td>108292298</td>\n",
       "    </tr>\n",
       "  </tbody>\n",
       "</table>\n",
       "</div>"
      ],
      "text/plain": [
       "  IDX_CD IDX_NM_KOR  ALL_MKT_VAL  CMP_CD  CMP_KOR   MKT_VAL    WGT  S_WGT  \\\n",
       "0    G10   WICS 에너지     30505197  096770  SK이노베이션  11164491  36.60  36.60   \n",
       "1    G10   WICS 에너지     30505197  034730       SK   4572455  14.99  51.59   \n",
       "2    G10   WICS 에너지     30505197  267250     HD현대   3304439  10.83  62.42   \n",
       "3    G10   WICS 에너지     30505197  010950    S-Oil   2457682   8.06  70.48   \n",
       "4    G10   WICS 에너지     30505197  009830    한화솔루션   2182090   7.15  77.63   \n",
       "\n",
       "   CAL_WGT SEC_CD SEC_NM_KOR  SEQ  TOP60  APT_SHR_CNT  \n",
       "0      1.0    G10        에너지    1      3     84579475  \n",
       "1      1.0    G10        에너지    2      3     33351243  \n",
       "2      1.0    G10        에너지    3      3     44236128  \n",
       "3      1.0    G10        에너지    4      3     41655633  \n",
       "4      1.0    G10        에너지    5      3    108292298  "
      ]
     },
     "execution_count": 7,
     "metadata": {},
     "output_type": "execute_result"
    }
   ],
   "source": [
    "data_pd = pd.json_normalize(data['list'])\n",
    "\n",
    "data_pd.head()"
   ]
  },
  {
   "cell_type": "markdown",
   "id": "ad98f2cc-8f0a-4caa-ae4b-1755134112e8",
   "metadata": {},
   "source": [
    "pandas 패키지의 json_normalize() 함수를 이용하면 JSON 형태의 데이터를 데이터프레임 형태로 매우 쉽게 변경할 수 있다."
   ]
  },
  {
   "cell_type": "markdown",
   "id": "277c10b2-675a-434d-8a37-230a6aa02098",
   "metadata": {},
   "source": [
    "- 모든 섹터의 구성종목을 얻는다."
   ]
  },
  {
   "cell_type": "code",
   "execution_count": 8,
   "id": "d5da57e0-f5f1-4077-8147-043c30abedd1",
   "metadata": {},
   "outputs": [
    {
     "name": "stderr",
     "output_type": "stream",
     "text": [
      "100%|██████████████████████████████████████████████████████████████████████████████████| 10/10 [00:28<00:00,  2.81s/it]\n"
     ]
    }
   ],
   "source": [
    "import time\n",
    "import json\n",
    "import requests as rq\n",
    "import pandas as pd\n",
    "from tqdm import tqdm\n",
    "\n",
    "sector_code = [\n",
    "    'G25', 'G35', 'G50', 'G40', 'G10', 'G20', 'G55', 'G30', 'G15', 'G45'\n",
    "]\n",
    "\n",
    "data_sector = []   # 1\n",
    "\n",
    "for i in tqdm(sector_code):   # 3\n",
    "    url = f'''https://www.wiseindex.com/Index/GetIndexComponets?ceil_yn=0&dt=20250314&sec_cd={i}''' \n",
    "    data = rq.get(url).json()\n",
    "    data_pd = pd.json_normalize(data['list'])\n",
    "\n",
    "    data_sector.append(data_pd)   # 2\n",
    "    \n",
    "    time.sleep(2)\n",
    "\n",
    "kor_sector = pd.concat(data_sector, axis=0)   # 4\n",
    "kor_sector = kor_sector[['IDX_CD', 'CMP_CD', 'CMP_KOR', 'SEC_NM_KOR']]   # 5\n",
    "kor_sector['기준일'] = '20250314'   # 6\n",
    "kor_sector['기준일'] = pd.to_datetime(kor_sector['기준일'])   # 6"
   ]
  },
  {
   "cell_type": "markdown",
   "id": "2f927ec8-2beb-4dda-9d58-da8cb7e84cf8",
   "metadata": {},
   "source": [
    "1. 섹터 정보가 들어갈 빈 리스트(data_sector)를 만든다.\n",
    "2. for문의 i에 섹터 코드를 입력하여 모든 섹터의 구성종목을 다운로드받은 후 append() 메서드를 통해 리스트에 추가한다.\n",
    "3. tqdm() 함수를 통해 진행 상황을 출력한다.\n",
    "4. concat() 함수를 이용해 리스트 내의 데이터프레임을 합친다.\n",
    "5. 필요한 열(섹터 코드, 티커, 종목명, 섹터명)만 입력한다.\n",
    "6. 데이터의 기준일에 해당하는 [기준일] 열을 추가한 후 datetime 형태로 변경한다."
   ]
  },
  {
   "cell_type": "markdown",
   "id": "09af5419-0631-4c88-adc1-e3c36792e40e",
   "metadata": {},
   "source": [
    "- SQL에 해당 정보가 들어갈 테이블을 만들어준다.\n",
    "\n",
    "```sql\n",
    "    create table kor_sector (\n",
    "\tIDX_CD varchar(3),\n",
    "    CMP_CD varchar(6),\n",
    "    CMP_KOR varchar(20),\n",
    "    SEC_NM_KOR varchar(10),\n",
    "    기준일 date,\n",
    "    primary key(CMP_CD, 기준일)\n",
    ");\n",
    "```"
   ]
  },
  {
   "cell_type": "code",
   "execution_count": 9,
   "id": "d43f9da4-819b-449c-81cd-7c653fe64ade",
   "metadata": {},
   "outputs": [],
   "source": [
    "import pymysql\n",
    "\n",
    "con = pymysql.connect(user='root',\n",
    "                     passwd='1234',\n",
    "                     host='127.0.0.1',\n",
    "                     db='stock_db',\n",
    "                     charset='utf8')\n",
    "\n",
    "mycursor = con.cursor()\n",
    "query = f\"\"\"\n",
    "    insert into kor_sector (IDX_CD, CMP_CD, CMP_KOR, SEC_NM_KOR, 기준일)\n",
    "    values (%s, %s, %s, %s, %s) as new\n",
    "    on duplicate key update\n",
    "    IDX_CD = new.IDX_CD, CMP_KOR = new.CMP_KOR, SEC_NM_KOR = new.SEC_NM_KOR\n",
    "\"\"\"\n",
    "\n",
    "args = kor_sector.values.tolist()\n",
    "\n",
    "mycursor.executemany(query, args)\n",
    "con.commit()\n",
    "\n",
    "con.close()"
   ]
  }
 ],
 "metadata": {
  "kernelspec": {
   "display_name": "Python 3 (ipykernel)",
   "language": "python",
   "name": "python3"
  },
  "language_info": {
   "codemirror_mode": {
    "name": "ipython",
    "version": 3
   },
   "file_extension": ".py",
   "mimetype": "text/x-python",
   "name": "python",
   "nbconvert_exporter": "python",
   "pygments_lexer": "ipython3",
   "version": "3.11.5"
  }
 },
 "nbformat": 4,
 "nbformat_minor": 5
}
