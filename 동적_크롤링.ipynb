{
 "cells": [
  {
   "cell_type": "markdown",
   "id": "77b3b87e-48ba-4f74-a366-2d115f0ebc7b",
   "metadata": {},
   "source": [
    "## 셀리늄 실습하기"
   ]
  },
  {
   "cell_type": "markdown",
   "id": "4a0fcfb1-b8c3-419e-8c1d-456cb30eb27c",
   "metadata": {},
   "source": [
    "- 셀레늄을 이용한 네이버 접속"
   ]
  },
  {
   "cell_type": "code",
   "execution_count": 5,
   "id": "c13202e2-c4c2-4b79-b4ee-73491bcc424e",
   "metadata": {},
   "outputs": [],
   "source": [
    "from selenium import webdriver\n",
    "from selenium.webdriver.chrome.service import Service\n",
    "from selenium.webdriver.common.by import By\n",
    "from selenium.webdriver.common.keys import Keys\n",
    "import time\n",
    "from bs4 import BeautifulSoup\n",
    "\n",
    "driver = webdriver.Chrome(service=Service())"
   ]
  },
  {
   "cell_type": "code",
   "execution_count": 6,
   "id": "7eeb258b-fbc3-4f05-a773-a798ec0893b1",
   "metadata": {},
   "outputs": [
    {
     "data": {
      "text/plain": [
       "'html lang=\"ko\" class=\"fzoom\" data-dark=\"false\"><head><script async=\"\" src=\"https://ntm.pstatic.net/ex/nlog.js\"></script><script async=\"\" type=\"text/javascript\" src=\"https://ssl.pstatic.net/tveta/libs/ndpsdk/prod/ndp-core.js\"></script> <meta charset=\"utf-8\"> <meta name=\"Referrer\" content=\"origin\"> <meta http-equiv=\"X-UA-Compatible\" content=\"IE=edge\"> <meta name=\"viewport\" content=\"width=1190\"> <title>NAVER</title> <meta name=\"apple-mobile-web-app-title\" content=\"NAVER\"> <meta name=\"robots\" content=\"index,nofollow\"> <meta name=\"description\" content=\"네이버 메인에서 다양한 정보와 유용한 컨텐츠를 만나 보세요\"> <meta property=\"og:title\" content=\"네이버\"> <meta property=\"og:url\" content=\"https://www.naver.com/\"> <meta property=\"og:image\" content=\"https://s.pstatic.net/static/www/mobile/edit/2016/0705/mobile_212852414260.png\"> <meta property=\"og:description\" content=\"네이버 메인에서 다양한 정보와 유용한 컨텐츠를 만나 보세요\"> <meta name=\"twitter:card\" content=\"summary\"> <meta name=\"twitter:title\" content=\"\"> <meta name=\"twitter:url\" content=\"h'"
      ]
     },
     "execution_count": 6,
     "metadata": {},
     "output_type": "execute_result"
    }
   ],
   "source": [
    "url = 'https://www.naver.com'\n",
    "driver.get(url)\n",
    "driver.page_source[1:1000]"
   ]
  },
  {
   "cell_type": "markdown",
   "id": "aef64c99-cf3e-4248-9d04-cf5e3d82c7a7",
   "metadata": {},
   "source": [
    "- 검색어 입력하기"
   ]
  },
  {
   "cell_type": "code",
   "execution_count": 8,
   "id": "fa3482d4-47a5-447e-a06c-f688458fb84f",
   "metadata": {},
   "outputs": [],
   "source": [
    "driver.find_element(By.CLASS_NAME, value='search_input').send_keys('퀀트 투자 포트폴리오 만들기')\n",
    "driver.find_element(By.CLASS_NAME, value='btn_search').send_keys(Keys.ENTER)"
   ]
  },
  {
   "cell_type": "code",
   "execution_count": 9,
   "id": "3e5af5d4-d021-4b2f-b4c9-e5cb31ee13a1",
   "metadata": {},
   "outputs": [],
   "source": [
    "driver.find_element(By.CLASS_NAME, value='box_window').clear()                  # 1\n",
    "driver.find_element(By.CLASS_NAME, value='box_window').send_keys('이현열 퀀트')  # 2\n",
    "driver.find_element(By.CLASS_NAME, value='bt_search').click()                   # 3"
   ]
  },
  {
   "cell_type": "markdown",
   "id": "cbbba9f0-b537-42ae-8bd1-064be7becc23",
   "metadata": {},
   "source": [
    "1: 검색어 박스(box_window)에 접근한 후, clear()를 실행하면 모든 텍스트가 지워진다.  \n",
    "\n",
    "2: send_keys('이현열 퀀트')를 실행하여 새로운 검색어를 입력한다.  \n",
    "\n",
    "3: 검색 버튼(bt_search)에 접근한 후, click()를 실행하여 해당 버튼을 클릭한다.  "
   ]
  },
  {
   "cell_type": "markdown",
   "id": "9e44d9fa-daf7-4546-8597-9bebd892af92",
   "metadata": {},
   "source": [
    "- XPATH를 이용하여 블로그 부분으로 이동하기"
   ]
  },
  {
   "cell_type": "code",
   "execution_count": 10,
   "id": "3c913553-9796-4e65-bdb1-d35f79399cc7",
   "metadata": {},
   "outputs": [],
   "source": [
    "driver.find_element(By.XPATH, value='//*[@id=\"lnb\"]/div[1]/div/div[1]/div/div[1]/div[1]/a').click()"
   ]
  },
  {
   "cell_type": "markdown",
   "id": "b36d3e2e-87f4-4a76-89df-2b22fcbcf48b",
   "metadata": {},
   "source": [
    "- 옵션 클릭 후 최순순으로 정렬하기"
   ]
  },
  {
   "cell_type": "code",
   "execution_count": 11,
   "id": "df92b62e-043e-43a6-84cd-8c25766606b7",
   "metadata": {},
   "outputs": [],
   "source": [
    "driver.find_element(By.XPATH, value='//*[@id=\"snb\"]/div[1]/div/div[2]/a').click()\n",
    "driver.find_element(By.XPATH, value='//*[@id=\"snb\"]/div[2]/ul/li[1]/div/div/a[2]').click()"
   ]
  },
  {
   "cell_type": "markdown",
   "id": "30072e15-f894-4b1f-a5d4-3a6a34f7b30c",
   "metadata": {},
   "source": [
    "- 모든 결과가 나올 때까지 스크롤 내리기"
   ]
  },
  {
   "cell_type": "code",
   "execution_count": 13,
   "id": "850f2fec-8784-4094-bf13-2ee869b86452",
   "metadata": {},
   "outputs": [],
   "source": [
    "prev_height = driver.execute_script('return document.body.scrollHeight')     # 1\n",
    "\n",
    "while True:   # 2\n",
    "    driver.execute_script('window.scrollTo(0, document.body.scrollHeight);')   # 3\n",
    "    time.sleep(2)   # 4\n",
    "\n",
    "    curr_height = driver.execute_script('return document.body.scrollHeight')   # 5\n",
    "    if curr_height == prev_height:\n",
    "        break   # 6\n",
    "    prev_height = curr_height   # 7"
   ]
  },
  {
   "cell_type": "markdown",
   "id": "2256d1f8-1e23-4b86-8bc2-d5fa690c1288",
   "metadata": {},
   "source": [
    "1. return document.body.scrollHeight은 현재의 창 높이를 반환하는 자바스크립트 명령어이며, 이를 prev_height에 저장한다.\r\n",
    "2. while문을 통해 반북문을 실행한다.\r\n",
    "3. 셀레늄을 통해 페이지의 최하단으로 스크롤을 내린다.\r\n",
    "4. 페이지가 로딩되는 시간을 기다리기 위해 2초간 슬립을 준다.\r\n",
    "5. curr_height에 현재 창 높이를 저장한다.\r\n",
    "6. curr_height와 prev_height가 동일하다는 의미는 페이지가 끝까지 내려왔다는 의미이다. 따라서 이 경우 break를 통해 while문을 멈추며, 그렇지 않을 경우 다시 스크롤을 내리는 동작을 반복한다.\r\n",
    "7. prev_height에 새로운 창 높이를 입력한다."
   ]
  },
  {
   "cell_type": "markdown",
   "id": "62955acb-dfd1-46a3-92c8-1b424a2ad4e3",
   "metadata": {},
   "source": [
    "- 모든 제목 크롤링하기"
   ]
  },
  {
   "cell_type": "code",
   "execution_count": 14,
   "id": "e1d4ebaa-a4f3-4511-9ea4-0b9b03613fb3",
   "metadata": {},
   "outputs": [
    {
     "data": {
      "text/plain": [
       "['모의투자 15일차 - 백테스트',\n",
       " '파이썬을 이용한 퀀트 투자 포트폴리오 만들기 ch.9 따라해보기 1',\n",
       " '모의투자 13일차 - 가치주투자',\n",
       " '추세추종 VS 평균회귀',\n",
       " '미국 시장에서 모멘텀 전략은 여전히 유효할까?',\n",
       " '<헤지펀드 열전 More money than god 세바스찬 말라비>',\n",
       " '[100자평] 감으로 하는 투자 데이터로 하는 투자',\n",
       " '감정을 이기는 퀀트투자, 스마트베타, 김병규, 이현열',\n",
       " '2022 DB GAPS 대회 후기 (2022-06 ~ 2022-10)',\n",
       " '금융 전공 희망자들 필독 - 퀀트에 대한 이현열 작가님의 견해에 덧붙여....']"
      ]
     },
     "execution_count": 14,
     "metadata": {},
     "output_type": "execute_result"
    }
   ],
   "source": [
    "from bs4 import BeautifulSoup\n",
    "\n",
    "html = BeautifulSoup(driver.page_source, 'lxml')   # 1\n",
    "txt = html.find_all(class_ = 'title_link')   # 2\n",
    "txt_list = [i.get_text() for i in txt]   # 3\n",
    "\n",
    "txt_list[0:10]"
   ]
  },
  {
   "cell_type": "markdown",
   "id": "a862c9aa-dc9f-4eca-9b97-d6d02abfc616",
   "metadata": {},
   "source": [
    "1. driver.page_source를 통해 현재 웹 페이지의 HTML 정보를 가져올 수 있으며, 이를 BeautifulSoup 객체로 만들어 준다.\n",
    "2. find_all() 함수를 통해 제목 부분에 위치하는 데이터를 모두 불러온다.\n",
    "3. for문을 통해 텍스트만 추출한다."
   ]
  },
  {
   "cell_type": "markdown",
   "id": "32dca14d-3679-4c30-801f-034ff2fb99e7",
   "metadata": {},
   "source": [
    "- 페이지 종료하기"
   ]
  },
  {
   "cell_type": "code",
   "execution_count": 17,
   "id": "f38b6394-0d2a-4e75-827d-ce580c3d37f5",
   "metadata": {},
   "outputs": [],
   "source": [
    "driver.quit()"
   ]
  }
 ],
 "metadata": {
  "kernelspec": {
   "display_name": "Python 3 (ipykernel)",
   "language": "python",
   "name": "python3"
  },
  "language_info": {
   "codemirror_mode": {
    "name": "ipython",
    "version": 3
   },
   "file_extension": ".py",
   "mimetype": "text/x-python",
   "name": "python",
   "nbconvert_exporter": "python",
   "pygments_lexer": "ipython3",
   "version": "3.11.5"
  }
 },
 "nbformat": 4,
 "nbformat_minor": 5
}
